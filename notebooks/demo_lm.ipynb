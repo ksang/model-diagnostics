{
 "cells": [
  {
   "cell_type": "markdown",
   "id": "79cc2498",
   "metadata": {},
   "source": [
    "# Demo: Language Modeling\n",
    "Demostrate typical usages for debugging a Language Model"
   ]
  },
  {
   "cell_type": "markdown",
   "id": "28dcb33b",
   "metadata": {},
   "source": [
    "### Defining a wrapper to use diagnostics tools"
   ]
  },
  {
   "cell_type": "code",
   "execution_count": 1,
   "id": "52050ea2",
   "metadata": {},
   "outputs": [],
   "source": [
    "import torch.nn as nn\n",
    "from torch import Tensor\n",
    "from torch.nn import functional as F\n",
    "\n",
    "\n",
    "class GPT2LMModelWrapper(nn.Module):\n",
    "    def __init__(self, model) -> None:\n",
    "        super(GPT2LMModelWrapper, self).__init__()\n",
    "        self.m = model\n",
    "\n",
    "    def forward(self, inputs_embeds, attention_mask) -> Tensor:\n",
    "        output = self.m(\n",
    "            inputs_embeds=inputs_embeds, attention_mask=attention_mask\n",
    "        ).logits[:, -1, :]\n",
    "        return F.softmax(output, -1)"
   ]
  },
  {
   "cell_type": "markdown",
   "id": "68763dbd",
   "metadata": {},
   "source": [
    "### Language Modeling predicting next word using gpt2"
   ]
  },
  {
   "cell_type": "code",
   "execution_count": 2,
   "id": "34815d90",
   "metadata": {},
   "outputs": [
    {
     "name": "stdout",
     "output_type": "stream",
     "text": [
      "prediction:  so  prob: 0.27135252952575684\n",
      "prediction:  it  prob: 0.12552329897880554\n",
      "prediction:  that  prob: 0.08452347666025162\n"
     ]
    }
   ],
   "source": [
    "import transformers\n",
    "from transformers import GPT2Tokenizer, GPT2LMHeadModel\n",
    "import torch\n",
    "\n",
    "text_input = \"Can humans dream of electric sheep ? I think\"\n",
    "# text_input = \"This knife is very\"\n",
    "\n",
    "tokenizer = GPT2Tokenizer.from_pretrained(\"gpt2\")\n",
    "model = GPT2LMHeadModel.from_pretrained(\"gpt2\", return_dict=True, is_decoder=True)\n",
    "\n",
    "inputs = tokenizer(text_input, return_tensors=\"pt\")\n",
    "output = model(**inputs).logits[:, -1, :]\n",
    "softmax = F.softmax(output, -1)\n",
    "values, predictions = softmax.topk(3)\n",
    "\n",
    "for i, v in enumerate(values[0]):\n",
    "    p = predictions[0][i]\n",
    "    x = tokenizer.decode(p)\n",
    "    print(\"prediction:\", x, \" prob:\", v.item())"
   ]
  },
  {
   "cell_type": "code",
   "execution_count": 3,
   "id": "03bb509c",
   "metadata": {},
   "outputs": [
    {
     "name": "stdout",
     "output_type": "stream",
     "text": [
      "0\n",
      "torch.Size([1, 50257])\n",
      "tensor(0.2714, grad_fn=<SelectBackward0>)\n"
     ]
    }
   ],
   "source": [
    "from diagnostics import get_gradients\n",
    "\n",
    "md = GPT2LMModelWrapper(model)\n",
    "# Use zero logits as baseline\n",
    "baseline = torch.zeros((1, tokenizer.vocab_size))\n",
    "# Set target to highest prob prediction\n",
    "target = torch.zeros((1, tokenizer.vocab_size))\n",
    "target[0][predictions[0][0]] = 1\n",
    "# Preprocess inputs ids to embedings, otherwise we can't get gradients\n",
    "inputs_embeds = model.transformer.wte(inputs[\"input_ids\"])\n",
    "gradients = get_gradients(\n",
    "    md, [inputs_embeds, inputs[\"attention_mask\"]], baseline, target\n",
    ")\n",
    "input_grad = torch.sum(gradients[0], 2)"
   ]
  },
  {
   "cell_type": "code",
   "execution_count": 4,
   "id": "7c2e6617",
   "metadata": {},
   "outputs": [],
   "source": [
    "import matplotlib.pyplot as plt\n",
    "import numpy as np\n",
    "\n",
    "\n",
    "def plot_gradients(tokens, gradients, title):\n",
    "    plt.figure(figsize=(21, 3))\n",
    "    xvals = [x + str(i) for i, x in enumerate(tokens)]\n",
    "    norm_grad = (gradients - np.min(gradients)) / (\n",
    "        np.max(gradients) - np.min(gradients)\n",
    "    )\n",
    "    colors = [(0, 0, 1, c) for c in (norm_grad)]\n",
    "    plt.tick_params(axis=\"both\", which=\"minor\", labelsize=29)\n",
    "    p = plt.bar(xvals, gradients, color=colors, linewidth=1)\n",
    "    plt.title(title)\n",
    "    p = plt.xticks(\n",
    "        ticks=[i for i in range(len(tokens))], labels=tokens, fontsize=12, rotation=0\n",
    "    )"
   ]
  },
  {
   "cell_type": "code",
   "execution_count": 5,
   "id": "23648564",
   "metadata": {},
   "outputs": [],
   "source": [
    "tokens = []\n",
    "for i in inputs[\"input_ids\"][0]:\n",
    "    tokens.append(tokenizer.decode(i))"
   ]
  },
  {
   "cell_type": "code",
   "execution_count": 6,
   "id": "d36fab7a",
   "metadata": {},
   "outputs": [
    {
     "data": {
      "image/png": "[encoded data removed]",
      "text/plain": [
       "<Figure size 2100x300 with 1 Axes>"
      ]
     },
     "metadata": {},
     "output_type": "display_data"
    }
   ],
   "source": [
    "plot_gradients(tokens, input_grad[0].numpy(), \"Input Gradients\")"
   ]
  },
  {
   "cell_type": "code",
   "execution_count": null,
   "id": "c5425db3",
   "metadata": {},
   "outputs": [],
   "source": []
  }
 ],
 "metadata": {
  "kernelspec": {
   "display_name": "Python 3 (ipykernel)",
   "language": "python",
   "name": "python3"
  },
  "language_info": {
   "codemirror_mode": {
    "name": "ipython",
    "version": 3
   },
   "file_extension": ".py",
   "mimetype": "text/x-python",
   "name": "python",
   "nbconvert_exporter": "python",
   "pygments_lexer": "ipython3",
   "version": "3.9.13"
  }
 },
 "nbformat": 4,
 "nbformat_minor": 5
}
